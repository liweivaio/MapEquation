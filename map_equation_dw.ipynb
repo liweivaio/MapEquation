{
 "cells": [
  {
   "cell_type": "code",
   "execution_count": 89,
   "metadata": {
    "collapsed": true
   },
   "outputs": [],
   "source": [
    "import random\n",
    "from math import log"
   ]
  },
  {
   "cell_type": "code",
   "execution_count": 34,
   "metadata": {
    "collapsed": true
   },
   "outputs": [],
   "source": [
    "def node_choose_rate(p):\n",
    "    r_={}\n",
    "    remaining_nodes=num_.copy()\n",
    "    total_move_wei=sum(weight_dict[p])\n",
    "    if len(map_dict[p])!=0:\n",
    "        for i in map_dict[p]:\n",
    "            r_[i]=weight_dict[p][map_dict[p].index(i)]/total_move_wei*0.85+0.15/n\n",
    "            remaining_nodes.remove(i)\n",
    "        for j in remaining_nodes:\n",
    "            r_[j]=0.15/n\n",
    "    else:\n",
    "        for k in remaining_nodes:\n",
    "            r_[k]=1/n\n",
    "    return(r_)"
   ]
  },
  {
   "cell_type": "code",
   "execution_count": 35,
   "metadata": {
    "collapsed": true
   },
   "outputs": [],
   "source": [
    "def select(p):\n",
    "    num_ = list(map_dict.keys())\n",
    "    r_ = node_choose_rate(p)\n",
    "    sum_ = 0\n",
    "    ran = random.random()\n",
    "    for num, r in zip(num_, r_.values()):\n",
    "        sum_ += r\n",
    "        if ran < sum_ :break\n",
    "    return num"
   ]
  },
  {
   "cell_type": "code",
   "execution_count": 36,
   "metadata": {
    "collapsed": true
   },
   "outputs": [],
   "source": [
    "def readData(filename):\n",
    "    graph = {}\n",
    "    weight = {}\n",
    "    f = open(filename,'r')\n",
    "    for line in f.readlines():\n",
    "        line= line.strip('\\n').split(' ')\n",
    "        u,v,w = int(line[0]),int(line[1]),float(line[2])\n",
    "        graph.setdefault(u,[]).append(v)\n",
    "        weight.setdefault(u,[]).append(w)\n",
    "    return graph, weight"
   ]
  },
  {
   "cell_type": "code",
   "execution_count": 37,
   "metadata": {
    "collapsed": true
   },
   "outputs": [],
   "source": [
    "def com_member(tag_dict):\n",
    "    member={}\n",
    "    for i in tag_dict.keys():\n",
    "        member.setdefault(tag_dict[i],[]).append(i)\n",
    "    return(member)"
   ]
  },
  {
   "cell_type": "code",
   "execution_count": 38,
   "metadata": {
    "collapsed": true
   },
   "outputs": [],
   "source": [
    "map_dict,weight_dict=readData('C:\\\\Users\\\\sony\\\\Desktop\\\\data_d_w1.txt')"
   ]
  },
  {
   "cell_type": "code",
   "execution_count": 39,
   "metadata": {
    "collapsed": false
   },
   "outputs": [
    {
     "data": {
      "text/plain": [
       "({1: [2, 3], 2: [1, 3], 3: [4], 4: [5], 5: [4, 3]},\n",
       " {1: [2.0, 2.0], 2: [2.0, 3.0], 3: [1.0], 4: [2.0], 5: [3.0, 4.0]})"
      ]
     },
     "execution_count": 39,
     "metadata": {},
     "output_type": "execute_result"
    }
   ],
   "source": [
    "map_dict,weight_dict"
   ]
  },
  {
   "cell_type": "code",
   "execution_count": 40,
   "metadata": {
    "collapsed": true
   },
   "outputs": [],
   "source": [
    "tag_dict0 = dict(zip(map_dict.keys(),map_dict.keys()))"
   ]
  },
  {
   "cell_type": "code",
   "execution_count": 41,
   "metadata": {
    "collapsed": false
   },
   "outputs": [],
   "source": [
    "tag_dict={1: 0, 2: 0, 3: 1, 4: 1, 5: 1}"
   ]
  },
  {
   "cell_type": "code",
   "execution_count": 42,
   "metadata": {
    "collapsed": false
   },
   "outputs": [],
   "source": [
    "num_ = list(map_dict.keys())"
   ]
  },
  {
   "cell_type": "code",
   "execution_count": 43,
   "metadata": {
    "collapsed": true
   },
   "outputs": [],
   "source": [
    "n=len(num_)"
   ]
  },
  {
   "cell_type": "code",
   "execution_count": 44,
   "metadata": {
    "collapsed": false
   },
   "outputs": [
    {
     "name": "stdout",
     "output_type": "stream",
     "text": [
      "{1: 0.046400000000003536, 2: 0.04893000000000431, 3: 0.2330600000000923, 4: 0.3470500000002063, 5: 0.3245600000001838}\n"
     ]
    }
   ],
   "source": [
    "rate=num_.copy()\n",
    "for i in range(len(rate)):\n",
    "    rate[i]=0\n",
    "node_rate=dict(zip(num_,rate))\n",
    "result=1\n",
    "for each in range(100000):\n",
    "    result = select(result)\n",
    "    node_rate[result]+=1/100000\n",
    "print(node_rate)"
   ]
  },
  {
   "cell_type": "code",
   "execution_count": 45,
   "metadata": {
    "collapsed": true
   },
   "outputs": [],
   "source": [
    "member=com_member(tag_dict)"
   ]
  },
  {
   "cell_type": "code",
   "execution_count": 46,
   "metadata": {
    "collapsed": false
   },
   "outputs": [
    {
     "data": {
      "text/plain": [
       "{0: [1, 2], 1: [3, 4, 5]}"
      ]
     },
     "execution_count": 46,
     "metadata": {},
     "output_type": "execute_result"
    }
   ],
   "source": [
    "member"
   ]
  },
  {
   "cell_type": "code",
   "execution_count": 73,
   "metadata": {
    "collapsed": true
   },
   "outputs": [],
   "source": [
    "def mod_exit(node_rate,member,map_dict,weight_dict):\n",
    "    mod_exit_fre={}\n",
    "    for key in member.keys():\n",
    "        p=0\n",
    "        q=0\n",
    "        for i in member[key]:\n",
    "            p+=node_rate[i]\n",
    "        p=p*0.15*(n-len(member[key]))/n\n",
    "        for j in member[key]:\n",
    "            w=0\n",
    "            for k in map_dict[j]:\n",
    "                if k not in member[key]:\n",
    "                    w+=weight_dict[j][map_dict[j].index(k)]\n",
    "                    q+=node_rate[j]*(w/sum(weight_dict[j]))\n",
    "            q=q*0.85\n",
    "        p=p+q\n",
    "        mod_exit_fre[key]=p\n",
    "    return(mod_exit_fre)"
   ]
  },
  {
   "cell_type": "code",
   "execution_count": 75,
   "metadata": {
    "collapsed": false
   },
   "outputs": [],
   "source": [
    "mod_exit_fre=mod_exit(node_rate,member,map_dict,weight_dict)"
   ]
  },
  {
   "cell_type": "code",
   "execution_count": 76,
   "metadata": {
    "collapsed": true
   },
   "outputs": [],
   "source": [
    "total_mod_exit_fre=sum(mod_exit_fre.values())"
   ]
  },
  {
   "cell_type": "code",
   "execution_count": 80,
   "metadata": {
    "collapsed": true
   },
   "outputs": [],
   "source": [
    "def mod_visit(node_rate,member):\n",
    "    mod_visit_fre={}\n",
    "    for key in member:\n",
    "        p=0\n",
    "        for i in  member[key]:\n",
    "            p+=node_rate[i]\n",
    "            mod_visit_fre[key]=p\n",
    "    return mod_visit_fre"
   ]
  },
  {
   "cell_type": "code",
   "execution_count": 86,
   "metadata": {
    "collapsed": false
   },
   "outputs": [],
   "source": [
    "mod_visit_fre=mod_visit(node_rate,member)"
   ]
  },
  {
   "cell_type": "code",
   "execution_count": 91,
   "metadata": {
    "collapsed": true
   },
   "outputs": [],
   "source": [
    "def mod_len(total_mod_exit_fre,mod_exit_fre,node_rate,mod_visit_fre):\n",
    "    lm=0\n",
    "    r=0\n",
    "    if total_mod_exit_fre!=0:\n",
    "        lm+=total_mod_exit_fre*log(total_mod_exit_fre,2)\n",
    "    for i in mod_exit_fre:\n",
    "        if mod_exit_fre[i]!=0:\n",
    "            r-=mod_exit_fre[i]*log(mod_exit_fre[i],2)\n",
    "    lm+=2*r\n",
    "    for j in node_rate:\n",
    "        lm-=node_rate[j]*log(node_rate[j],2)\n",
    "    for k in mod_exit_fre.keys():\n",
    "        lm+=(mod_exit_fre[k]+mod_visit_fre[k])*log((mod_exit_fre[k]+mod_visit_fre[k]),2)\n",
    "    return lm"
   ]
  },
  {
   "cell_type": "code",
   "execution_count": 92,
   "metadata": {
    "collapsed": false
   },
   "outputs": [
    {
     "data": {
      "text/plain": [
       "2.0518221109853836"
      ]
     },
     "execution_count": 92,
     "metadata": {},
     "output_type": "execute_result"
    }
   ],
   "source": [
    "mod_len(total_mod_exit_fre,mod_exit_fre,node_rate,mod_visit_fre)"
   ]
  },
  {
   "cell_type": "code",
   "execution_count": null,
   "metadata": {
    "collapsed": true
   },
   "outputs": [],
   "source": []
  }
 ],
 "metadata": {
  "kernelspec": {
   "display_name": "Python 3",
   "language": "python",
   "name": "python3"
  },
  "language_info": {
   "codemirror_mode": {
    "name": "ipython",
    "version": 3
   },
   "file_extension": ".py",
   "mimetype": "text/x-python",
   "name": "python",
   "nbconvert_exporter": "python",
   "pygments_lexer": "ipython3",
   "version": "3.5.3"
  }
 },
 "nbformat": 4,
 "nbformat_minor": 2
}
